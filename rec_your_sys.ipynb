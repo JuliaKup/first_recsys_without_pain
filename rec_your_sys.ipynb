{
 "cells": [
  {
   "cell_type": "code",
   "execution_count": 1,
   "id": "66130a4b-30f9-494d-aa49-7eb0b3741a6a",
   "metadata": {},
   "outputs": [],
   "source": [
    "import numpy as np\n",
    "import pandas as pd"
   ]
  },
  {
   "cell_type": "code",
   "execution_count": 2,
   "id": "315c51a2-79d0-4fda-901a-62bfd7b11fc0",
   "metadata": {},
   "outputs": [],
   "source": [
    "items = pd.read_csv('../data/archive/items.csv')[['item_id', 'content_type', 'title', 'release_year', 'keywords']]"
   ]
  },
  {
   "cell_type": "code",
   "execution_count": 3,
   "id": "7d21ac91-19fb-459d-9673-e79a6fde8c14",
   "metadata": {},
   "outputs": [
    {
     "data": {
      "text/html": [
       "<div>\n",
       "<style scoped>\n",
       "    .dataframe tbody tr th:only-of-type {\n",
       "        vertical-align: middle;\n",
       "    }\n",
       "\n",
       "    .dataframe tbody tr th {\n",
       "        vertical-align: top;\n",
       "    }\n",
       "\n",
       "    .dataframe thead th {\n",
       "        text-align: right;\n",
       "    }\n",
       "</style>\n",
       "<table border=\"1\" class=\"dataframe\">\n",
       "  <thead>\n",
       "    <tr style=\"text-align: right;\">\n",
       "      <th></th>\n",
       "      <th>item_id</th>\n",
       "      <th>content_type</th>\n",
       "      <th>title</th>\n",
       "      <th>release_year</th>\n",
       "      <th>keywords</th>\n",
       "    </tr>\n",
       "  </thead>\n",
       "  <tbody>\n",
       "    <tr>\n",
       "      <th>0</th>\n",
       "      <td>10711</td>\n",
       "      <td>film</td>\n",
       "      <td>Поговори с ней</td>\n",
       "      <td>2002.0</td>\n",
       "      <td>Поговори, ней, 2002, Испания, друзья, любовь, ...</td>\n",
       "    </tr>\n",
       "    <tr>\n",
       "      <th>1</th>\n",
       "      <td>2508</td>\n",
       "      <td>film</td>\n",
       "      <td>Голые перцы</td>\n",
       "      <td>2014.0</td>\n",
       "      <td>Голые, перцы, 2014, США, друзья, свадьбы, прео...</td>\n",
       "    </tr>\n",
       "    <tr>\n",
       "      <th>2</th>\n",
       "      <td>10716</td>\n",
       "      <td>film</td>\n",
       "      <td>Тактическая сила</td>\n",
       "      <td>2011.0</td>\n",
       "      <td>Тактическая, сила, 2011, Канада, бандиты, ганг...</td>\n",
       "    </tr>\n",
       "    <tr>\n",
       "      <th>3</th>\n",
       "      <td>7868</td>\n",
       "      <td>film</td>\n",
       "      <td>45 лет</td>\n",
       "      <td>2015.0</td>\n",
       "      <td>45, лет, 2015, Великобритания, брак, жизнь, лю...</td>\n",
       "    </tr>\n",
       "    <tr>\n",
       "      <th>4</th>\n",
       "      <td>16268</td>\n",
       "      <td>film</td>\n",
       "      <td>Все решает мгновение</td>\n",
       "      <td>1978.0</td>\n",
       "      <td>Все, решает, мгновение, 1978, СССР, сильные, ж...</td>\n",
       "    </tr>\n",
       "  </tbody>\n",
       "</table>\n",
       "</div>"
      ],
      "text/plain": [
       "   item_id content_type                 title  release_year  \\\n",
       "0    10711         film        Поговори с ней        2002.0   \n",
       "1     2508         film           Голые перцы        2014.0   \n",
       "2    10716         film      Тактическая сила        2011.0   \n",
       "3     7868         film                45 лет        2015.0   \n",
       "4    16268         film  Все решает мгновение        1978.0   \n",
       "\n",
       "                                            keywords  \n",
       "0  Поговори, ней, 2002, Испания, друзья, любовь, ...  \n",
       "1  Голые, перцы, 2014, США, друзья, свадьбы, прео...  \n",
       "2  Тактическая, сила, 2011, Канада, бандиты, ганг...  \n",
       "3  45, лет, 2015, Великобритания, брак, жизнь, лю...  \n",
       "4  Все, решает, мгновение, 1978, СССР, сильные, ж...  "
      ]
     },
     "execution_count": 3,
     "metadata": {},
     "output_type": "execute_result"
    }
   ],
   "source": [
    "items.head()"
   ]
  },
  {
   "cell_type": "markdown",
   "id": "70b28fa3-b351-4fe7-8114-b52d2538af37",
   "metadata": {
    "tags": []
   },
   "source": [
    "## Популярное"
   ]
  },
  {
   "cell_type": "code",
   "execution_count": 4,
   "id": "4aa4d748-cc22-42e5-8fb5-30110a96b042",
   "metadata": {},
   "outputs": [
    {
     "data": {
      "text/html": [
       "<div>\n",
       "<style scoped>\n",
       "    .dataframe tbody tr th:only-of-type {\n",
       "        vertical-align: middle;\n",
       "    }\n",
       "\n",
       "    .dataframe tbody tr th {\n",
       "        vertical-align: top;\n",
       "    }\n",
       "\n",
       "    .dataframe thead th {\n",
       "        text-align: right;\n",
       "    }\n",
       "</style>\n",
       "<table border=\"1\" class=\"dataframe\">\n",
       "  <thead>\n",
       "    <tr style=\"text-align: right;\">\n",
       "      <th></th>\n",
       "      <th>user_id</th>\n",
       "      <th>item_id</th>\n",
       "      <th>datetime</th>\n",
       "      <th>total_dur</th>\n",
       "      <th>watched_pct</th>\n",
       "      <th>content_type</th>\n",
       "      <th>title</th>\n",
       "      <th>release_year</th>\n",
       "      <th>keywords</th>\n",
       "    </tr>\n",
       "  </thead>\n",
       "  <tbody>\n",
       "    <tr>\n",
       "      <th>0</th>\n",
       "      <td>176549</td>\n",
       "      <td>9506</td>\n",
       "      <td>2021-05-11</td>\n",
       "      <td>4250</td>\n",
       "      <td>72.0</td>\n",
       "      <td>film</td>\n",
       "      <td>Холодное сердце</td>\n",
       "      <td>2013.0</td>\n",
       "      <td>королева, мюзикл, принцесса, предательство, сн...</td>\n",
       "    </tr>\n",
       "    <tr>\n",
       "      <th>1</th>\n",
       "      <td>964868</td>\n",
       "      <td>9506</td>\n",
       "      <td>2021-04-30</td>\n",
       "      <td>6725</td>\n",
       "      <td>100.0</td>\n",
       "      <td>film</td>\n",
       "      <td>Холодное сердце</td>\n",
       "      <td>2013.0</td>\n",
       "      <td>королева, мюзикл, принцесса, предательство, сн...</td>\n",
       "    </tr>\n",
       "    <tr>\n",
       "      <th>2</th>\n",
       "      <td>699317</td>\n",
       "      <td>1659</td>\n",
       "      <td>2021-05-29</td>\n",
       "      <td>8317</td>\n",
       "      <td>100.0</td>\n",
       "      <td>film</td>\n",
       "      <td>Три богатыря. Ход конем</td>\n",
       "      <td>2014.0</td>\n",
       "      <td>2014, россия, три, богатыря, ход, конем</td>\n",
       "    </tr>\n",
       "    <tr>\n",
       "      <th>3</th>\n",
       "      <td>656683</td>\n",
       "      <td>7107</td>\n",
       "      <td>2021-05-09</td>\n",
       "      <td>10</td>\n",
       "      <td>0.0</td>\n",
       "      <td>series</td>\n",
       "      <td>Девятаев</td>\n",
       "      <td>2021.0</td>\n",
       "      <td>NaN</td>\n",
       "    </tr>\n",
       "    <tr>\n",
       "      <th>4</th>\n",
       "      <td>864613</td>\n",
       "      <td>7638</td>\n",
       "      <td>2021-07-05</td>\n",
       "      <td>14483</td>\n",
       "      <td>100.0</td>\n",
       "      <td>series</td>\n",
       "      <td>Мишель</td>\n",
       "      <td>2018.0</td>\n",
       "      <td>NaN</td>\n",
       "    </tr>\n",
       "  </tbody>\n",
       "</table>\n",
       "</div>"
      ],
      "text/plain": [
       "   user_id  item_id   datetime  total_dur  watched_pct content_type  \\\n",
       "0   176549     9506 2021-05-11       4250         72.0         film   \n",
       "1   964868     9506 2021-04-30       6725        100.0         film   \n",
       "2   699317     1659 2021-05-29       8317        100.0         film   \n",
       "3   656683     7107 2021-05-09         10          0.0       series   \n",
       "4   864613     7638 2021-07-05      14483        100.0       series   \n",
       "\n",
       "                     title  release_year  \\\n",
       "0          Холодное сердце        2013.0   \n",
       "1          Холодное сердце        2013.0   \n",
       "2  Три богатыря. Ход конем        2014.0   \n",
       "3                 Девятаев        2021.0   \n",
       "4                   Мишель        2018.0   \n",
       "\n",
       "                                            keywords  \n",
       "0  королева, мюзикл, принцесса, предательство, сн...  \n",
       "1  королева, мюзикл, принцесса, предательство, сн...  \n",
       "2            2014, россия, три, богатыря, ход, конем  \n",
       "3                                                NaN  \n",
       "4                                                NaN  "
      ]
     },
     "execution_count": 4,
     "metadata": {},
     "output_type": "execute_result"
    }
   ],
   "source": [
    "interactions = pd.read_csv('../data/archive/interactions.csv', parse_dates=['last_watch_dt'])\n",
    "interactions.rename({'last_watch_dt': 'datetime'}, axis=1, inplace=True)\n",
    "interactions.head().merge(items, on='item_id')"
   ]
  },
  {
   "cell_type": "code",
   "execution_count": 5,
   "id": "b4197f7b-24d9-49a1-96f4-00fb3b131b9c",
   "metadata": {},
   "outputs": [
    {
     "name": "stdout",
     "output_type": "stream",
     "text": [
      "Num users: 962179\n",
      "Num items: 15706\n",
      "Num interactions: 5476251\n",
      "Time period: 2021-03-13 2021-08-22\n"
     ]
    }
   ],
   "source": [
    "print('Num users:', len(interactions['user_id'].unique()))\n",
    "print('Num items:', len(interactions['item_id'].unique()))\n",
    "print('Num interactions:', len(interactions))\n",
    "print(\n",
    "    'Time period:',\n",
    "    interactions['datetime'].min().strftime('%Y-%m-%d'),\n",
    "    interactions['datetime'].max().strftime('%Y-%m-%d')\n",
    ")"
   ]
  },
  {
   "cell_type": "markdown",
   "id": "6df0bb7f-90ee-43c2-bafd-2bf0765d91a4",
   "metadata": {},
   "source": [
    "### Модель на коленке"
   ]
  },
  {
   "cell_type": "code",
   "execution_count": 6,
   "id": "e3a4a8de-190d-4ecf-b108-26ad51d9f9e0",
   "metadata": {},
   "outputs": [],
   "source": [
    "class KolenkaModel:\n",
    "    def __init__(self, k, days=30):\n",
    "        self.k = k\n",
    "        self.days = days\n",
    "        self.recommendations = []\n",
    "        \n",
    "    def fit(self, df):\n",
    "        min_date = df['datetime'].max() - pd.DateOffset(days=self.days)\n",
    "        self.recommendations = pd.DataFrame(\n",
    "            df.loc[df['datetime'] > min_date, 'item_id'].value_counts().head(self.k).index.values,\n",
    "            columns=['item_id']\n",
    "        )\n",
    "    \n",
    "    def recommend(self, users=None) -> pd.DataFrame:\n",
    "        if users is None:\n",
    "            return self.recommendations\n",
    "        else:\n",
    "            users = pd.DataFrame(users, columns=['user_id'])\n",
    "            users['key'] = 1\n",
    "            self.recommendations['key'] = 1\n",
    "            return pd.merge(users, self.recommendations, on='key', how='outer').drop('key', axis=1)"
   ]
  },
  {
   "cell_type": "code",
   "execution_count": 7,
   "id": "6dd17238-a588-4405-a796-704b4b8b41b2",
   "metadata": {},
   "outputs": [
    {
     "data": {
      "text/html": [
       "<div>\n",
       "<style scoped>\n",
       "    .dataframe tbody tr th:only-of-type {\n",
       "        vertical-align: middle;\n",
       "    }\n",
       "\n",
       "    .dataframe tbody tr th {\n",
       "        vertical-align: top;\n",
       "    }\n",
       "\n",
       "    .dataframe thead th {\n",
       "        text-align: right;\n",
       "    }\n",
       "</style>\n",
       "<table border=\"1\" class=\"dataframe\">\n",
       "  <thead>\n",
       "    <tr style=\"text-align: right;\">\n",
       "      <th></th>\n",
       "      <th>user_id</th>\n",
       "      <th>item_id</th>\n",
       "      <th>content_type</th>\n",
       "      <th>title</th>\n",
       "      <th>release_year</th>\n",
       "      <th>keywords</th>\n",
       "    </tr>\n",
       "  </thead>\n",
       "  <tbody>\n",
       "    <tr>\n",
       "      <th>0</th>\n",
       "      <td>176549</td>\n",
       "      <td>10440</td>\n",
       "      <td>series</td>\n",
       "      <td>Хрустальный</td>\n",
       "      <td>2021.0</td>\n",
       "      <td>хруст, хрусталь, хруста, хрус, полицейский, пе...</td>\n",
       "    </tr>\n",
       "    <tr>\n",
       "      <th>1</th>\n",
       "      <td>176549</td>\n",
       "      <td>15297</td>\n",
       "      <td>series</td>\n",
       "      <td>Клиника счастья</td>\n",
       "      <td>2021.0</td>\n",
       "      <td>Клиника счастья, Клиника, Счастье, Клиника сча...</td>\n",
       "    </tr>\n",
       "    <tr>\n",
       "      <th>2</th>\n",
       "      <td>176549</td>\n",
       "      <td>9728</td>\n",
       "      <td>film</td>\n",
       "      <td>Гнев человеческий</td>\n",
       "      <td>2021.0</td>\n",
       "      <td>ограбление, криминальный авторитет, месть, пер...</td>\n",
       "    </tr>\n",
       "    <tr>\n",
       "      <th>3</th>\n",
       "      <td>176549</td>\n",
       "      <td>13865</td>\n",
       "      <td>film</td>\n",
       "      <td>Девятаев</td>\n",
       "      <td>2021.0</td>\n",
       "      <td>Девятаев, Девятаева, Девят, Девя, Девята, Девя...</td>\n",
       "    </tr>\n",
       "    <tr>\n",
       "      <th>4</th>\n",
       "      <td>176549</td>\n",
       "      <td>3734</td>\n",
       "      <td>film</td>\n",
       "      <td>Прабабушка легкого поведения</td>\n",
       "      <td>2021.0</td>\n",
       "      <td>, 2021, россия, прабабушка, легкого, поведения</td>\n",
       "    </tr>\n",
       "    <tr>\n",
       "      <th>5</th>\n",
       "      <td>176549</td>\n",
       "      <td>12192</td>\n",
       "      <td>series</td>\n",
       "      <td>Фемида видит</td>\n",
       "      <td>2019.0</td>\n",
       "      <td>фемида видит, фемида, феми, фем, фемид, фемида...</td>\n",
       "    </tr>\n",
       "    <tr>\n",
       "      <th>6</th>\n",
       "      <td>176549</td>\n",
       "      <td>4151</td>\n",
       "      <td>series</td>\n",
       "      <td>Секреты семейной жизни</td>\n",
       "      <td>2021.0</td>\n",
       "      <td>брызги крови, кровь, жестокое обращение с живо...</td>\n",
       "    </tr>\n",
       "    <tr>\n",
       "      <th>7</th>\n",
       "      <td>176549</td>\n",
       "      <td>11863</td>\n",
       "      <td>series</td>\n",
       "      <td>Девятаев - сериал</td>\n",
       "      <td>2021.0</td>\n",
       "      <td>NaN</td>\n",
       "    </tr>\n",
       "    <tr>\n",
       "      <th>8</th>\n",
       "      <td>176549</td>\n",
       "      <td>7793</td>\n",
       "      <td>film</td>\n",
       "      <td>Радиовспышка</td>\n",
       "      <td>2019.0</td>\n",
       "      <td>2019, соединенные штаты, радиовспышка</td>\n",
       "    </tr>\n",
       "    <tr>\n",
       "      <th>9</th>\n",
       "      <td>176549</td>\n",
       "      <td>7829</td>\n",
       "      <td>film</td>\n",
       "      <td>Поступь хаоса</td>\n",
       "      <td>2021.0</td>\n",
       "      <td>по роману или книге, постапокалиптическое буду...</td>\n",
       "    </tr>\n",
       "  </tbody>\n",
       "</table>\n",
       "</div>"
      ],
      "text/plain": [
       "   user_id  item_id content_type                         title  release_year  \\\n",
       "0   176549    10440       series                   Хрустальный        2021.0   \n",
       "1   176549    15297       series               Клиника счастья        2021.0   \n",
       "2   176549     9728         film             Гнев человеческий        2021.0   \n",
       "3   176549    13865         film                      Девятаев        2021.0   \n",
       "4   176549     3734         film  Прабабушка легкого поведения        2021.0   \n",
       "5   176549    12192       series                  Фемида видит        2019.0   \n",
       "6   176549     4151       series        Секреты семейной жизни        2021.0   \n",
       "7   176549    11863       series             Девятаев - сериал        2021.0   \n",
       "8   176549     7793         film                  Радиовспышка        2019.0   \n",
       "9   176549     7829         film                 Поступь хаоса        2021.0   \n",
       "\n",
       "                                            keywords  \n",
       "0  хруст, хрусталь, хруста, хрус, полицейский, пе...  \n",
       "1  Клиника счастья, Клиника, Счастье, Клиника сча...  \n",
       "2  ограбление, криминальный авторитет, месть, пер...  \n",
       "3  Девятаев, Девятаева, Девят, Девя, Девята, Девя...  \n",
       "4     , 2021, россия, прабабушка, легкого, поведения  \n",
       "5  фемида видит, фемида, феми, фем, фемид, фемида...  \n",
       "6  брызги крови, кровь, жестокое обращение с живо...  \n",
       "7                                                NaN  \n",
       "8              2019, соединенные штаты, радиовспышка  \n",
       "9  по роману или книге, постапокалиптическое буду...  "
      ]
     },
     "execution_count": 7,
     "metadata": {},
     "output_type": "execute_result"
    }
   ],
   "source": [
    "model = KolenkaModel(k=10)\n",
    "model.fit(interactions)\n",
    "\n",
    "recs = model.recommend(interactions['user_id'].unique())\n",
    "recs[recs['user_id'] == 176549].merge(items, on='item_id')"
   ]
  },
  {
   "cell_type": "markdown",
   "id": "5844d86e-d29d-45f7-a3f5-8be114dac5f4",
   "metadata": {},
   "source": [
    "### Популярное с помощью RecTools"
   ]
  },
  {
   "cell_type": "code",
   "execution_count": 8,
   "id": "3e6bb235-bf08-48c2-9519-0a3e3c07491a",
   "metadata": {},
   "outputs": [
    {
     "data": {
      "text/html": [
       "<div>\n",
       "<style scoped>\n",
       "    .dataframe tbody tr th:only-of-type {\n",
       "        vertical-align: middle;\n",
       "    }\n",
       "\n",
       "    .dataframe tbody tr th {\n",
       "        vertical-align: top;\n",
       "    }\n",
       "\n",
       "    .dataframe thead th {\n",
       "        text-align: right;\n",
       "    }\n",
       "</style>\n",
       "<table border=\"1\" class=\"dataframe\">\n",
       "  <thead>\n",
       "    <tr style=\"text-align: right;\">\n",
       "      <th></th>\n",
       "      <th>user_id</th>\n",
       "      <th>item_id</th>\n",
       "      <th>datetime</th>\n",
       "      <th>total_dur</th>\n",
       "      <th>watched_pct</th>\n",
       "      <th>weight</th>\n",
       "    </tr>\n",
       "  </thead>\n",
       "  <tbody>\n",
       "    <tr>\n",
       "      <th>0</th>\n",
       "      <td>176549</td>\n",
       "      <td>9506</td>\n",
       "      <td>2021-05-11</td>\n",
       "      <td>4250</td>\n",
       "      <td>72.0</td>\n",
       "      <td>8.026170</td>\n",
       "    </tr>\n",
       "    <tr>\n",
       "      <th>1</th>\n",
       "      <td>699317</td>\n",
       "      <td>1659</td>\n",
       "      <td>2021-05-29</td>\n",
       "      <td>8317</td>\n",
       "      <td>100.0</td>\n",
       "      <td>9.026057</td>\n",
       "    </tr>\n",
       "    <tr>\n",
       "      <th>2</th>\n",
       "      <td>656683</td>\n",
       "      <td>7107</td>\n",
       "      <td>2021-05-09</td>\n",
       "      <td>10</td>\n",
       "      <td>0.0</td>\n",
       "      <td>-20.000000</td>\n",
       "    </tr>\n",
       "    <tr>\n",
       "      <th>3</th>\n",
       "      <td>864613</td>\n",
       "      <td>7638</td>\n",
       "      <td>2021-07-05</td>\n",
       "      <td>14483</td>\n",
       "      <td>100.0</td>\n",
       "      <td>9.580731</td>\n",
       "    </tr>\n",
       "    <tr>\n",
       "      <th>4</th>\n",
       "      <td>964868</td>\n",
       "      <td>9506</td>\n",
       "      <td>2021-04-30</td>\n",
       "      <td>6725</td>\n",
       "      <td>100.0</td>\n",
       "      <td>8.813587</td>\n",
       "    </tr>\n",
       "  </tbody>\n",
       "</table>\n",
       "</div>"
      ],
      "text/plain": [
       "   user_id  item_id   datetime  total_dur  watched_pct     weight\n",
       "0   176549     9506 2021-05-11       4250         72.0   8.026170\n",
       "1   699317     1659 2021-05-29       8317        100.0   9.026057\n",
       "2   656683     7107 2021-05-09         10          0.0 -20.000000\n",
       "3   864613     7638 2021-07-05      14483        100.0   9.580731\n",
       "4   964868     9506 2021-04-30       6725        100.0   8.813587"
      ]
     },
     "execution_count": 8,
     "metadata": {},
     "output_type": "execute_result"
    }
   ],
   "source": [
    "interactions = pd.read_csv('../data/archive/interactions.csv', parse_dates=['last_watch_dt'])\n",
    "interactions.rename({'last_watch_dt': 'datetime'}, axis=1, inplace=True)\n",
    "\n",
    "interactions['weight'] = interactions['total_dur'] * interactions['watched_pct'] / 100\n",
    "\n",
    "interactions['weight'] = interactions['weight'].apply(np.log)\n",
    "interactions.loc[interactions['weight'] < -100, 'weight'] = -20\n",
    "interactions.loc[interactions['weight'] > 100, 'weight'] = 20\n",
    "\n",
    "interactions.head()"
   ]
  },
  {
   "cell_type": "code",
   "execution_count": 9,
   "id": "a495e560-4e00-43c5-865e-187837b9f712",
   "metadata": {},
   "outputs": [
    {
     "data": {
      "text/plain": [
       "<Axes: >"
      ]
     },
     "execution_count": 9,
     "metadata": {},
     "output_type": "execute_result"
    },
    {
     "data": {
      "image/png": "[encoded data removed]",
      "text/plain": [
       "<Figure size 2100x500 with 1 Axes>"
      ]
     },
     "metadata": {},
     "output_type": "display_data"
    }
   ],
   "source": [
    "interactions['weight'].hist(bins=100, figsize=(21, 5), legend=True)"
   ]
  },
  {
   "cell_type": "code",
   "execution_count": 10,
   "id": "473863e3-220f-477f-952c-85c84fd7fdd2",
   "metadata": {},
   "outputs": [
    {
     "name": "stderr",
     "output_type": "stream",
     "text": [
      "/Users/juliakup/anaconda3/envs/rectools/lib/python3.8/site-packages/lightfm/_lightfm_fast.py:9: UserWarning: LightFM was compiled without OpenMP support. Only a single thread will be used.\n",
      "  warnings.warn(\n"
     ]
    }
   ],
   "source": [
    "from rectools.dataset import Dataset\n",
    "from rectools.models import PopularModel\n",
    "\n",
    "\n",
    "dataset = Dataset.construct(interactions)\n",
    "model = PopularModel('sum_weight')\n",
    "model.fit(dataset)\n",
    "\n",
    "pop_recs = model.recommend(\n",
    "    users=interactions['user_id'].unique(),\n",
    "    dataset=dataset,\n",
    "    k=10,\n",
    "    filter_viewed=True,\n",
    ")"
   ]
  },
  {
   "cell_type": "code",
   "execution_count": 11,
   "id": "bc3e7559-b115-426e-8011-2ca4f1fe7199",
   "metadata": {},
   "outputs": [
    {
     "data": {
      "text/html": [
       "<div>\n",
       "<style scoped>\n",
       "    .dataframe tbody tr th:only-of-type {\n",
       "        vertical-align: middle;\n",
       "    }\n",
       "\n",
       "    .dataframe tbody tr th {\n",
       "        vertical-align: top;\n",
       "    }\n",
       "\n",
       "    .dataframe thead th {\n",
       "        text-align: right;\n",
       "    }\n",
       "</style>\n",
       "<table border=\"1\" class=\"dataframe\">\n",
       "  <thead>\n",
       "    <tr style=\"text-align: right;\">\n",
       "      <th></th>\n",
       "      <th>user_id</th>\n",
       "      <th>item_id</th>\n",
       "      <th>score</th>\n",
       "      <th>rank</th>\n",
       "      <th>content_type</th>\n",
       "      <th>title</th>\n",
       "      <th>release_year</th>\n",
       "      <th>keywords</th>\n",
       "    </tr>\n",
       "  </thead>\n",
       "  <tbody>\n",
       "    <tr>\n",
       "      <th>0</th>\n",
       "      <td>176549</td>\n",
       "      <td>15297</td>\n",
       "      <td>893499.750862</td>\n",
       "      <td>1</td>\n",
       "      <td>series</td>\n",
       "      <td>Клиника счастья</td>\n",
       "      <td>2021.0</td>\n",
       "      <td>Клиника счастья, Клиника, Счастье, Клиника сча...</td>\n",
       "    </tr>\n",
       "    <tr>\n",
       "      <th>1</th>\n",
       "      <td>176549</td>\n",
       "      <td>13865</td>\n",
       "      <td>675679.923819</td>\n",
       "      <td>2</td>\n",
       "      <td>film</td>\n",
       "      <td>Девятаев</td>\n",
       "      <td>2021.0</td>\n",
       "      <td>Девятаев, Девятаева, Девят, Девя, Девята, Девя...</td>\n",
       "    </tr>\n",
       "    <tr>\n",
       "      <th>2</th>\n",
       "      <td>176549</td>\n",
       "      <td>10440</td>\n",
       "      <td>628460.794495</td>\n",
       "      <td>3</td>\n",
       "      <td>series</td>\n",
       "      <td>Хрустальный</td>\n",
       "      <td>2021.0</td>\n",
       "      <td>хруст, хрусталь, хруста, хрус, полицейский, пе...</td>\n",
       "    </tr>\n",
       "    <tr>\n",
       "      <th>3</th>\n",
       "      <td>176549</td>\n",
       "      <td>3734</td>\n",
       "      <td>472980.452576</td>\n",
       "      <td>4</td>\n",
       "      <td>film</td>\n",
       "      <td>Прабабушка легкого поведения</td>\n",
       "      <td>2021.0</td>\n",
       "      <td>, 2021, россия, прабабушка, легкого, поведения</td>\n",
       "    </tr>\n",
       "    <tr>\n",
       "      <th>4</th>\n",
       "      <td>176549</td>\n",
       "      <td>142</td>\n",
       "      <td>237530.869335</td>\n",
       "      <td>5</td>\n",
       "      <td>film</td>\n",
       "      <td>Маша</td>\n",
       "      <td>2020.0</td>\n",
       "      <td>Фильм Маша, Маша фильм 2021, Смотреть фильм Ма...</td>\n",
       "    </tr>\n",
       "    <tr>\n",
       "      <th>5</th>\n",
       "      <td>176549</td>\n",
       "      <td>6809</td>\n",
       "      <td>187503.772397</td>\n",
       "      <td>6</td>\n",
       "      <td>film</td>\n",
       "      <td>Дуров</td>\n",
       "      <td>2021.0</td>\n",
       "      <td>Компьютер, Монитор, Гений, Интервью, Предприни...</td>\n",
       "    </tr>\n",
       "    <tr>\n",
       "      <th>6</th>\n",
       "      <td>176549</td>\n",
       "      <td>4151</td>\n",
       "      <td>185738.881680</td>\n",
       "      <td>7</td>\n",
       "      <td>series</td>\n",
       "      <td>Секреты семейной жизни</td>\n",
       "      <td>2021.0</td>\n",
       "      <td>брызги крови, кровь, жестокое обращение с живо...</td>\n",
       "    </tr>\n",
       "    <tr>\n",
       "      <th>7</th>\n",
       "      <td>176549</td>\n",
       "      <td>8636</td>\n",
       "      <td>153893.667980</td>\n",
       "      <td>8</td>\n",
       "      <td>film</td>\n",
       "      <td>Белый снег</td>\n",
       "      <td>2021.0</td>\n",
       "      <td>биография, занятие спортом, байопик, чемпионат...</td>\n",
       "    </tr>\n",
       "    <tr>\n",
       "      <th>8</th>\n",
       "      <td>176549</td>\n",
       "      <td>11237</td>\n",
       "      <td>142305.264642</td>\n",
       "      <td>9</td>\n",
       "      <td>film</td>\n",
       "      <td>День города</td>\n",
       "      <td>2021.0</td>\n",
       "      <td>2021, россия, день, города</td>\n",
       "    </tr>\n",
       "    <tr>\n",
       "      <th>9</th>\n",
       "      <td>176549</td>\n",
       "      <td>7571</td>\n",
       "      <td>124361.525741</td>\n",
       "      <td>10</td>\n",
       "      <td>film</td>\n",
       "      <td>100% волк</td>\n",
       "      <td>2020.0</td>\n",
       "      <td>пудель, подростковая тревога, оборотень, приня...</td>\n",
       "    </tr>\n",
       "  </tbody>\n",
       "</table>\n",
       "</div>"
      ],
      "text/plain": [
       "   user_id  item_id          score  rank content_type  \\\n",
       "0   176549    15297  893499.750862     1       series   \n",
       "1   176549    13865  675679.923819     2         film   \n",
       "2   176549    10440  628460.794495     3       series   \n",
       "3   176549     3734  472980.452576     4         film   \n",
       "4   176549      142  237530.869335     5         film   \n",
       "5   176549     6809  187503.772397     6         film   \n",
       "6   176549     4151  185738.881680     7       series   \n",
       "7   176549     8636  153893.667980     8         film   \n",
       "8   176549    11237  142305.264642     9         film   \n",
       "9   176549     7571  124361.525741    10         film   \n",
       "\n",
       "                          title  release_year  \\\n",
       "0               Клиника счастья        2021.0   \n",
       "1                      Девятаев        2021.0   \n",
       "2                   Хрустальный        2021.0   \n",
       "3  Прабабушка легкого поведения        2021.0   \n",
       "4                          Маша        2020.0   \n",
       "5                         Дуров        2021.0   \n",
       "6        Секреты семейной жизни        2021.0   \n",
       "7                    Белый снег        2021.0   \n",
       "8                   День города        2021.0   \n",
       "9                     100% волк        2020.0   \n",
       "\n",
       "                                            keywords  \n",
       "0  Клиника счастья, Клиника, Счастье, Клиника сча...  \n",
       "1  Девятаев, Девятаева, Девят, Девя, Девята, Девя...  \n",
       "2  хруст, хрусталь, хруста, хрус, полицейский, пе...  \n",
       "3     , 2021, россия, прабабушка, легкого, поведения  \n",
       "4  Фильм Маша, Маша фильм 2021, Смотреть фильм Ма...  \n",
       "5  Компьютер, Монитор, Гений, Интервью, Предприни...  \n",
       "6  брызги крови, кровь, жестокое обращение с живо...  \n",
       "7  биография, занятие спортом, байопик, чемпионат...  \n",
       "8                         2021, россия, день, города  \n",
       "9  пудель, подростковая тревога, оборотень, приня...  "
      ]
     },
     "execution_count": 11,
     "metadata": {},
     "output_type": "execute_result"
    }
   ],
   "source": [
    "pop_recs[pop_recs['user_id'] == 176549].merge(items, on='item_id')"
   ]
  },
  {
   "cell_type": "code",
   "execution_count": null,
   "id": "ee05fe67-9048-48ce-a891-715f454f1c45",
   "metadata": {},
   "outputs": [],
   "source": []
  },
  {
   "cell_type": "markdown",
   "id": "9c5eba2f-71b3-4647-9d01-136197e11f75",
   "metadata": {
    "tags": []
   },
   "source": [
    "## Item2Item"
   ]
  },
  {
   "cell_type": "code",
   "execution_count": 12,
   "id": "8fc036bb-8813-4db0-bda3-f6ab18c20c69",
   "metadata": {},
   "outputs": [
    {
     "data": {
      "text/plain": [
       "(15963, 12)"
      ]
     },
     "execution_count": 12,
     "metadata": {},
     "output_type": "execute_result"
    }
   ],
   "source": [
    "items_df = pd.read_csv('../data/archive/items.csv').drop(columns=['title_orig', 'studios'])\n",
    "items_df['actors'] = items_df['actors'].fillna('')\n",
    "items_df['description'] = items_df['description'].fillna('')\n",
    "items_df['keywords'] = items_df['keywords'].fillna('')\n",
    "items_df.shape"
   ]
  },
  {
   "cell_type": "code",
   "execution_count": 13,
   "id": "8e7cb0d7-4cb1-4592-ace2-3b87de886aae",
   "metadata": {
    "tags": []
   },
   "outputs": [
    {
     "data": {
      "text/plain": [
       "'Голые, перцы, 2014, США, друзья, свадьбы, преодоление, трудностей, расставания, отношения, дружба, риск, недоразумение, мужская, дружба, мальчишники, девичники'"
      ]
     },
     "execution_count": 13,
     "metadata": {},
     "output_type": "execute_result"
    }
   ],
   "source": [
    "items_df['keywords'][1]"
   ]
  },
  {
   "cell_type": "code",
   "execution_count": 14,
   "id": "8e99c969-f7a2-4b4f-a6b2-e90c19f9ee45",
   "metadata": {},
   "outputs": [
    {
     "data": {
      "text/html": [
       "<div>\n",
       "<style scoped>\n",
       "    .dataframe tbody tr th:only-of-type {\n",
       "        vertical-align: middle;\n",
       "    }\n",
       "\n",
       "    .dataframe tbody tr th {\n",
       "        vertical-align: top;\n",
       "    }\n",
       "\n",
       "    .dataframe thead th {\n",
       "        text-align: right;\n",
       "    }\n",
       "</style>\n",
       "<table border=\"1\" class=\"dataframe\">\n",
       "  <thead>\n",
       "    <tr style=\"text-align: right;\">\n",
       "      <th></th>\n",
       "      <th>item_id</th>\n",
       "      <th>content_type</th>\n",
       "      <th>title</th>\n",
       "      <th>release_year</th>\n",
       "      <th>genres</th>\n",
       "      <th>countries</th>\n",
       "      <th>for_kids</th>\n",
       "      <th>age_rating</th>\n",
       "      <th>directors</th>\n",
       "      <th>actors</th>\n",
       "      <th>description</th>\n",
       "      <th>keywords</th>\n",
       "    </tr>\n",
       "  </thead>\n",
       "  <tbody>\n",
       "    <tr>\n",
       "      <th>0</th>\n",
       "      <td>10711</td>\n",
       "      <td>film</td>\n",
       "      <td>Поговори с ней</td>\n",
       "      <td>2002.0</td>\n",
       "      <td>драмы, зарубежные, детективы, мелодрамы</td>\n",
       "      <td>Испания</td>\n",
       "      <td>NaN</td>\n",
       "      <td>16.0</td>\n",
       "      <td>Педро Альмодовар</td>\n",
       "      <td>Адольфо Фернандес, Ана Фернандес, Дарио Гранди...</td>\n",
       "      <td>Мелодрама легендарного Педро Альмодовара «Пого...</td>\n",
       "      <td>Поговори, ней, 2002, Испания, друзья, любовь, ...</td>\n",
       "    </tr>\n",
       "    <tr>\n",
       "      <th>1</th>\n",
       "      <td>2508</td>\n",
       "      <td>film</td>\n",
       "      <td>Голые перцы</td>\n",
       "      <td>2014.0</td>\n",
       "      <td>зарубежные, приключения, комедии</td>\n",
       "      <td>США</td>\n",
       "      <td>NaN</td>\n",
       "      <td>16.0</td>\n",
       "      <td>Скот Армстронг</td>\n",
       "      <td>Адам Палли, Брайан Хаски, Дж.Б. Смув, Джейсон ...</td>\n",
       "      <td>Уморительная современная комедия на популярную...</td>\n",
       "      <td>Голые, перцы, 2014, США, друзья, свадьбы, прео...</td>\n",
       "    </tr>\n",
       "    <tr>\n",
       "      <th>2</th>\n",
       "      <td>10716</td>\n",
       "      <td>film</td>\n",
       "      <td>Тактическая сила</td>\n",
       "      <td>2011.0</td>\n",
       "      <td>криминал, зарубежные, триллеры, боевики, комедии</td>\n",
       "      <td>Канада</td>\n",
       "      <td>NaN</td>\n",
       "      <td>16.0</td>\n",
       "      <td>Адам П. Калтраро</td>\n",
       "      <td>Адриан Холмс, Даррен Шалави, Джерри Вассерман,...</td>\n",
       "      <td>Профессиональный рестлер Стив Остин («Все или ...</td>\n",
       "      <td>Тактическая, сила, 2011, Канада, бандиты, ганг...</td>\n",
       "    </tr>\n",
       "  </tbody>\n",
       "</table>\n",
       "</div>"
      ],
      "text/plain": [
       "   item_id content_type             title  release_year  \\\n",
       "0    10711         film    Поговори с ней        2002.0   \n",
       "1     2508         film       Голые перцы        2014.0   \n",
       "2    10716         film  Тактическая сила        2011.0   \n",
       "\n",
       "                                             genres countries  for_kids  \\\n",
       "0           драмы, зарубежные, детективы, мелодрамы   Испания       NaN   \n",
       "1                  зарубежные, приключения, комедии       США       NaN   \n",
       "2  криминал, зарубежные, триллеры, боевики, комедии    Канада       NaN   \n",
       "\n",
       "   age_rating         directors  \\\n",
       "0        16.0  Педро Альмодовар   \n",
       "1        16.0    Скот Армстронг   \n",
       "2        16.0  Адам П. Калтраро   \n",
       "\n",
       "                                              actors  \\\n",
       "0  Адольфо Фернандес, Ана Фернандес, Дарио Гранди...   \n",
       "1  Адам Палли, Брайан Хаски, Дж.Б. Смув, Джейсон ...   \n",
       "2  Адриан Холмс, Даррен Шалави, Джерри Вассерман,...   \n",
       "\n",
       "                                         description  \\\n",
       "0  Мелодрама легендарного Педро Альмодовара «Пого...   \n",
       "1  Уморительная современная комедия на популярную...   \n",
       "2  Профессиональный рестлер Стив Остин («Все или ...   \n",
       "\n",
       "                                            keywords  \n",
       "0  Поговори, ней, 2002, Испания, друзья, любовь, ...  \n",
       "1  Голые, перцы, 2014, США, друзья, свадьбы, прео...  \n",
       "2  Тактическая, сила, 2011, Канада, бандиты, ганг...  "
      ]
     },
     "execution_count": 14,
     "metadata": {},
     "output_type": "execute_result"
    }
   ],
   "source": [
    "items_df.head(3)"
   ]
  },
  {
   "cell_type": "code",
   "execution_count": 15,
   "id": "6ff3c679-2206-4060-a808-93d50c743072",
   "metadata": {},
   "outputs": [],
   "source": [
    "from sklearn.feature_extraction.text import TfidfVectorizer\n",
    "from sklearn.metrics.pairwise import linear_kernel\n",
    "\n",
    "\n",
    "class Item2ItemRecommender:\n",
    "    \n",
    "    def __init__(self, k: int = 10):\n",
    "        self.k = k\n",
    "        \n",
    "    def fit(self, items_df, corpus):\n",
    "        tf = TfidfVectorizer()\n",
    "        tfidf_matrix = tf.fit_transform(corpus)\n",
    "        self.cosine_sim = linear_kernel(tfidf_matrix, tfidf_matrix)\n",
    "        self.indices = pd.Series(items_df.index, index=items_df['item_id'])\n",
    "        self.items_df = items_df\n",
    "    \n",
    "    def recommend(self, user_history):\n",
    "        indices = pd.Series(self.items_df.index, index=self.items_df['item_id'])  # item_id -> index\n",
    "        idx = indices.loc[user_history['item_id']]  # item_id -> index\n",
    "        sim_scores = [\n",
    "            (idx.iloc[id_], nxt, score)  # curr item index, next item index, score\n",
    "            for id_, sim in enumerate(np.take(self.cosine_sim, idx, axis=0))\n",
    "            for nxt, score in enumerate(sim)\n",
    "        ]\n",
    "        sim_scores_df = pd.DataFrame(sim_scores, columns=['idx', 'next', 'score'])\n",
    "        sim_scores_df['sort'] = sim_scores_df.sort_values('score', ascending=False).groupby('idx').cumcount() + 1\n",
    "        sim_scores_df = sim_scores_df[sim_scores_df['sort'].between(2, self.k + 1)]\n",
    "        titles = self.items_df[['title', 'content_type', 'release_year', 'keywords']] \\\n",
    "                   .reset_index().rename(columns={'index': 'next'})\n",
    "        idx_df = pd.DataFrame(idx, columns=['idx']).reset_index() # index, idx\n",
    "        sim_scores_df = sim_scores_df.merge(idx_df).merge(titles)\\\n",
    "                          .sort_values(['item_id', 'score'], ascending=[True, False])\n",
    "        \n",
    "        return sim_scores_df.drop(columns=['idx', 'sort', 'next'])"
   ]
  },
  {
   "cell_type": "code",
   "execution_count": 16,
   "id": "ffc91ab1-ce92-4c91-93b9-5ad54b23a38c",
   "metadata": {},
   "outputs": [
    {
     "data": {
      "text/html": [
       "<div>\n",
       "<style scoped>\n",
       "    .dataframe tbody tr th:only-of-type {\n",
       "        vertical-align: middle;\n",
       "    }\n",
       "\n",
       "    .dataframe tbody tr th {\n",
       "        vertical-align: top;\n",
       "    }\n",
       "\n",
       "    .dataframe thead th {\n",
       "        text-align: right;\n",
       "    }\n",
       "</style>\n",
       "<table border=\"1\" class=\"dataframe\">\n",
       "  <thead>\n",
       "    <tr style=\"text-align: right;\">\n",
       "      <th></th>\n",
       "      <th>user_id</th>\n",
       "      <th>item_id</th>\n",
       "      <th>datetime</th>\n",
       "      <th>total_dur</th>\n",
       "      <th>watched_pct</th>\n",
       "      <th>weight</th>\n",
       "      <th>content_type</th>\n",
       "      <th>title</th>\n",
       "      <th>release_year</th>\n",
       "      <th>keywords</th>\n",
       "    </tr>\n",
       "  </thead>\n",
       "  <tbody>\n",
       "    <tr>\n",
       "      <th>10</th>\n",
       "      <td>265110</td>\n",
       "      <td>1106</td>\n",
       "      <td>2021-03-31</td>\n",
       "      <td>4305</td>\n",
       "      <td>60.0</td>\n",
       "      <td>7.856707</td>\n",
       "      <td>film</td>\n",
       "      <td>Железный человек 2</td>\n",
       "      <td>2010.0</td>\n",
       "      <td>технологии, малибу, супергерой, месть, 2000-е,...</td>\n",
       "    </tr>\n",
       "    <tr>\n",
       "      <th>1</th>\n",
       "      <td>265110</td>\n",
       "      <td>330</td>\n",
       "      <td>2021-03-28</td>\n",
       "      <td>6892</td>\n",
       "      <td>100.0</td>\n",
       "      <td>8.838117</td>\n",
       "      <td>film</td>\n",
       "      <td>Книга джунглей</td>\n",
       "      <td>2016.0</td>\n",
       "      <td>основано на романе или книге, змея, волк, слон...</td>\n",
       "    </tr>\n",
       "    <tr>\n",
       "      <th>2</th>\n",
       "      <td>265110</td>\n",
       "      <td>144</td>\n",
       "      <td>2021-04-01</td>\n",
       "      <td>721</td>\n",
       "      <td>10.0</td>\n",
       "      <td>4.278054</td>\n",
       "      <td>film</td>\n",
       "      <td>Железный человек 3</td>\n",
       "      <td>2013.0</td>\n",
       "      <td>война с террором, Теннесси, Малибу, Супергерой...</td>\n",
       "    </tr>\n",
       "  </tbody>\n",
       "</table>\n",
       "</div>"
      ],
      "text/plain": [
       "    user_id  item_id   datetime  total_dur  watched_pct    weight  \\\n",
       "10   265110     1106 2021-03-31       4305         60.0  7.856707   \n",
       "1    265110      330 2021-03-28       6892        100.0  8.838117   \n",
       "2    265110      144 2021-04-01        721         10.0  4.278054   \n",
       "\n",
       "   content_type               title  release_year  \\\n",
       "10         film  Железный человек 2        2010.0   \n",
       "1          film      Книга джунглей        2016.0   \n",
       "2          film  Железный человек 3        2013.0   \n",
       "\n",
       "                                             keywords  \n",
       "10  технологии, малибу, супергерой, месть, 2000-е,...  \n",
       "1   основано на романе или книге, змея, волк, слон...  \n",
       "2   война с террором, Теннесси, Малибу, Супергерой...  "
      ]
     },
     "execution_count": 16,
     "metadata": {},
     "output_type": "execute_result"
    }
   ],
   "source": [
    "interactions[interactions['user_id'] == 265110].merge(items).sort_values('item_id', ascending=False).tail(3)"
   ]
  },
  {
   "cell_type": "code",
   "execution_count": 17,
   "id": "7fc9f6fd-cabc-4fad-b7ec-c14d09f21822",
   "metadata": {},
   "outputs": [
    {
     "data": {
      "text/html": [
       "<div>\n",
       "<style scoped>\n",
       "    .dataframe tbody tr th:only-of-type {\n",
       "        vertical-align: middle;\n",
       "    }\n",
       "\n",
       "    .dataframe tbody tr th {\n",
       "        vertical-align: top;\n",
       "    }\n",
       "\n",
       "    .dataframe thead th {\n",
       "        text-align: right;\n",
       "    }\n",
       "</style>\n",
       "<table border=\"1\" class=\"dataframe\">\n",
       "  <thead>\n",
       "    <tr style=\"text-align: right;\">\n",
       "      <th></th>\n",
       "      <th>score</th>\n",
       "      <th>item_id</th>\n",
       "      <th>title</th>\n",
       "      <th>content_type</th>\n",
       "      <th>release_year</th>\n",
       "      <th>keywords</th>\n",
       "    </tr>\n",
       "  </thead>\n",
       "  <tbody>\n",
       "    <tr>\n",
       "      <th>9</th>\n",
       "      <td>0.411068</td>\n",
       "      <td>144</td>\n",
       "      <td>G.I. Joe: Бросок кобры 2</td>\n",
       "      <td>film</td>\n",
       "      <td>2013.0</td>\n",
       "      <td>убийца, тайна, технология, ракеты, боеголовки,...</td>\n",
       "    </tr>\n",
       "    <tr>\n",
       "      <th>8</th>\n",
       "      <td>0.404432</td>\n",
       "      <td>144</td>\n",
       "      <td>Штурм Белого дома</td>\n",
       "      <td>film</td>\n",
       "      <td>2013.0</td>\n",
       "      <td>белый дом, президент соединенных штатов, загов...</td>\n",
       "    </tr>\n",
       "    <tr>\n",
       "      <th>10</th>\n",
       "      <td>0.367648</td>\n",
       "      <td>144</td>\n",
       "      <td>Мачете убивает</td>\n",
       "      <td>film</td>\n",
       "      <td>2013.0</td>\n",
       "      <td>Мексика, Белый дом, ядерная ракета, мачете, пр...</td>\n",
       "    </tr>\n",
       "    <tr>\n",
       "      <th>5</th>\n",
       "      <td>0.444355</td>\n",
       "      <td>330</td>\n",
       "      <td>Книга джунглей (1967)</td>\n",
       "      <td>film</td>\n",
       "      <td>1967.0</td>\n",
       "      <td>основано на романе или книге, индийский поводо...</td>\n",
       "    </tr>\n",
       "    <tr>\n",
       "      <th>7</th>\n",
       "      <td>0.331348</td>\n",
       "      <td>330</td>\n",
       "      <td>Книга джунглей 2</td>\n",
       "      <td>film</td>\n",
       "      <td>2003.0</td>\n",
       "      <td>река, мюзикл, тигр, деревня, дикий ребенок, пр...</td>\n",
       "    </tr>\n",
       "    <tr>\n",
       "      <th>6</th>\n",
       "      <td>0.242535</td>\n",
       "      <td>330</td>\n",
       "      <td>Удивительное путешествие доктора Дулиттла</td>\n",
       "      <td>film</td>\n",
       "      <td>2020.0</td>\n",
       "      <td>по мотивам романа или книги, корабль, викториа...</td>\n",
       "    </tr>\n",
       "    <tr>\n",
       "      <th>37</th>\n",
       "      <td>0.369074</td>\n",
       "      <td>1106</td>\n",
       "      <td>Железный человек</td>\n",
       "      <td>film</td>\n",
       "      <td>2008.0</td>\n",
       "      <td>Ближний Восток, торговец оружием, Малибу, супе...</td>\n",
       "    </tr>\n",
       "    <tr>\n",
       "      <th>35</th>\n",
       "      <td>0.314045</td>\n",
       "      <td>1106</td>\n",
       "      <td>Тор</td>\n",
       "      <td>film</td>\n",
       "      <td>2011.0</td>\n",
       "      <td>Нью-Мексико, изгнание, супергерой, основанный ...</td>\n",
       "    </tr>\n",
       "    <tr>\n",
       "      <th>2</th>\n",
       "      <td>0.311599</td>\n",
       "      <td>1106</td>\n",
       "      <td>Мстители: Эра Альтрона</td>\n",
       "      <td>film</td>\n",
       "      <td>2015.0</td>\n",
       "      <td>продолжение, супергерой, основанный на комикса...</td>\n",
       "    </tr>\n",
       "  </tbody>\n",
       "</table>\n",
       "</div>"
      ],
      "text/plain": [
       "       score  item_id                                      title content_type  \\\n",
       "9   0.411068      144                   G.I. Joe: Бросок кобры 2         film   \n",
       "8   0.404432      144                          Штурм Белого дома         film   \n",
       "10  0.367648      144                             Мачете убивает         film   \n",
       "5   0.444355      330                      Книга джунглей (1967)         film   \n",
       "7   0.331348      330                           Книга джунглей 2         film   \n",
       "6   0.242535      330  Удивительное путешествие доктора Дулиттла         film   \n",
       "37  0.369074     1106                           Железный человек         film   \n",
       "35  0.314045     1106                                        Тор         film   \n",
       "2   0.311599     1106                     Мстители: Эра Альтрона         film   \n",
       "\n",
       "    release_year                                           keywords  \n",
       "9         2013.0  убийца, тайна, технология, ракеты, боеголовки,...  \n",
       "8         2013.0  белый дом, президент соединенных штатов, загов...  \n",
       "10        2013.0  Мексика, Белый дом, ядерная ракета, мачете, пр...  \n",
       "5         1967.0  основано на романе или книге, индийский поводо...  \n",
       "7         2003.0  река, мюзикл, тигр, деревня, дикий ребенок, пр...  \n",
       "6         2020.0  по мотивам романа или книги, корабль, викториа...  \n",
       "37        2008.0  Ближний Восток, торговец оружием, Малибу, супе...  \n",
       "35        2011.0  Нью-Мексико, изгнание, супергерой, основанный ...  \n",
       "2         2015.0  продолжение, супергерой, основанный на комикса...  "
      ]
     },
     "execution_count": 17,
     "metadata": {},
     "output_type": "execute_result"
    }
   ],
   "source": [
    "model = Item2ItemRecommender(k=3)\n",
    "model.fit(items_df, items_df['keywords'])\n",
    "model.recommend(interactions[interactions['user_id'] == 265110]).head(9)"
   ]
  },
  {
   "cell_type": "markdown",
   "id": "947f241b-1602-4c5e-98e6-2d355d1b7842",
   "metadata": {},
   "source": [
    "## Metrics"
   ]
  },
  {
   "cell_type": "code",
   "execution_count": 18,
   "id": "e4da9fec-0a20-46f3-9013-80c347618f5c",
   "metadata": {},
   "outputs": [],
   "source": [
    "from rectools.metrics import MAP, NDCG, Precision"
   ]
  },
  {
   "cell_type": "code",
   "execution_count": 19,
   "id": "f35ce31a-442c-4220-a82f-3fb7f17d5f94",
   "metadata": {},
   "outputs": [
    {
     "data": {
      "text/plain": [
       "(Timestamp('2021-03-13 00:00:00'), Timestamp('2021-08-22 00:00:00'))"
      ]
     },
     "execution_count": 19,
     "metadata": {},
     "output_type": "execute_result"
    }
   ],
   "source": [
    "interactions = pd.read_csv('../data/archive/interactions.csv', parse_dates=['last_watch_dt'])\n",
    "interactions.rename({'last_watch_dt': 'datetime'}, axis=1, inplace=True)\n",
    "interactions['weight'] = interactions['watched_pct']\n",
    "interactions['datetime'].min(), interactions['datetime'].max()"
   ]
  },
  {
   "cell_type": "code",
   "execution_count": 20,
   "id": "eddc5a85-7075-4750-8760-18710e482052",
   "metadata": {},
   "outputs": [
    {
     "data": {
      "text/plain": [
       "<Axes: >"
      ]
     },
     "execution_count": 20,
     "metadata": {},
     "output_type": "execute_result"
    },
    {
     "data": {
      "image/png": "[encoded data removed]",
      "text/plain": [
       "<Figure size 2100x600 with 1 Axes>"
      ]
     },
     "metadata": {},
     "output_type": "display_data"
    }
   ],
   "source": [
    "interactions['datetime'].hist(bins=100, figsize=(21, 6), legend=True)"
   ]
  },
  {
   "cell_type": "code",
   "execution_count": 21,
   "id": "b012cf6c-bbce-4542-89e7-d1188718958e",
   "metadata": {},
   "outputs": [],
   "source": [
    "split_dt = pd.Timestamp(\"2021-08-14\")\n",
    "df_train = interactions.loc[interactions[\"datetime\"] < split_dt]\n",
    "df_test = interactions.loc[interactions[\"datetime\"] >= split_dt]"
   ]
  },
  {
   "cell_type": "code",
   "execution_count": 22,
   "id": "4a4e610d-cfcb-4dff-a018-1bd6175390bc",
   "metadata": {},
   "outputs": [],
   "source": [
    "dataset = Dataset.construct(df_train)\n",
    "model = PopularModel('sum_weight')\n",
    "model.fit(dataset)\n",
    "\n",
    "pop_recs = model.recommend(\n",
    "    users=df_train['user_id'].unique(),\n",
    "    dataset=dataset,\n",
    "    k=10,\n",
    "    filter_viewed=True,\n",
    ")"
   ]
  },
  {
   "cell_type": "code",
   "execution_count": 23,
   "id": "a28fe8b5-dcfc-48aa-be66-2b0cf91f38f1",
   "metadata": {},
   "outputs": [
    {
     "name": "stdout",
     "output_type": "stream",
     "text": [
      "Precision: 0.02034415257002185 NDCG: 0.026871487867533992 MAP 0.04918437364900765\n"
     ]
    }
   ],
   "source": [
    "precision = Precision(k=10).calc(reco=pop_recs, interactions=df_test)\n",
    "ndcg = NDCG(k=10).calc(reco=pop_recs, interactions=df_test)\n",
    "map_ = MAP(k=10).calc(reco=pop_recs, interactions=df_test)\n",
    "print('Precision:', precision, 'NDCG:', ndcg, 'MAP', map_)"
   ]
  },
  {
   "cell_type": "markdown",
   "id": "7eb160d0-a2e7-43f8-a543-b781f7dd306f",
   "metadata": {
    "tags": []
   },
   "source": [
    "## Collaborative filtering"
   ]
  },
  {
   "cell_type": "code",
   "execution_count": 24,
   "id": "5143b2eb-e08c-4782-af76-5bacc937da95",
   "metadata": {},
   "outputs": [],
   "source": [
    "import os\n",
    "\n",
    "from implicit.als import AlternatingLeastSquares\n",
    "from rectools.models import ImplicitALSWrapperModel\n",
    "\n",
    "\n",
    "os.environ[\"OPENBLAS_NUM_THREADS\"] = \"1\"  # For implicit ALS"
   ]
  },
  {
   "cell_type": "code",
   "execution_count": 25,
   "id": "021dc386-ded4-4160-b0e5-f1b255f49558",
   "metadata": {},
   "outputs": [],
   "source": [
    "interactions = pd.read_csv('../data/archive/interactions.csv', parse_dates=['last_watch_dt'])\n",
    "interactions.rename({'last_watch_dt': 'datetime'}, axis=1, inplace=True)\n",
    "interactions['weight'] = interactions['watched_pct']\n",
    "\n",
    "split_dt = pd.Timestamp(\"2021-08-14\")\n",
    "df_train = interactions.loc[interactions[\"datetime\"] < split_dt]\n",
    "df_test = interactions.loc[interactions[\"datetime\"] >= split_dt]"
   ]
  },
  {
   "cell_type": "code",
   "execution_count": 26,
   "id": "c7ec5ca6-bed8-4b2d-8a5f-5490ad852309",
   "metadata": {},
   "outputs": [],
   "source": [
    "dataset = Dataset.construct(df_train)"
   ]
  },
  {
   "cell_type": "code",
   "execution_count": 27,
   "id": "d995a8f0-4e81-482f-bb84-a3fcd40572ab",
   "metadata": {},
   "outputs": [
    {
     "name": "stdout",
     "output_type": "stream",
     "text": [
      "CPU times: user 46min 54s, sys: 44.4 s, total: 47min 39s\n",
      "Wall time: 6min 41s\n"
     ]
    }
   ],
   "source": [
    "%%time\n",
    "model = ImplicitALSWrapperModel(AlternatingLeastSquares(factors=8, random_state=42, num_threads=1))\n",
    "model.fit(dataset)\n",
    "\n",
    "recs = model.recommend(\n",
    "    users=df_train['user_id'].unique(),\n",
    "    dataset=dataset,\n",
    "    k=10,\n",
    "    filter_viewed=True,\n",
    ")"
   ]
  },
  {
   "cell_type": "code",
   "execution_count": 28,
   "id": "2c2f84ba-605a-446e-a64b-15b5a757fa7c",
   "metadata": {},
   "outputs": [
    {
     "data": {
      "text/html": [
       "<div>\n",
       "<style scoped>\n",
       "    .dataframe tbody tr th:only-of-type {\n",
       "        vertical-align: middle;\n",
       "    }\n",
       "\n",
       "    .dataframe tbody tr th {\n",
       "        vertical-align: top;\n",
       "    }\n",
       "\n",
       "    .dataframe thead th {\n",
       "        text-align: right;\n",
       "    }\n",
       "</style>\n",
       "<table border=\"1\" class=\"dataframe\">\n",
       "  <thead>\n",
       "    <tr style=\"text-align: right;\">\n",
       "      <th></th>\n",
       "      <th>user_id</th>\n",
       "      <th>item_id</th>\n",
       "      <th>score</th>\n",
       "      <th>rank</th>\n",
       "    </tr>\n",
       "  </thead>\n",
       "  <tbody>\n",
       "    <tr>\n",
       "      <th>0</th>\n",
       "      <td>176549</td>\n",
       "      <td>16361</td>\n",
       "      <td>1.562495</td>\n",
       "      <td>1</td>\n",
       "    </tr>\n",
       "    <tr>\n",
       "      <th>1</th>\n",
       "      <td>176549</td>\n",
       "      <td>1819</td>\n",
       "      <td>1.446069</td>\n",
       "      <td>2</td>\n",
       "    </tr>\n",
       "    <tr>\n",
       "      <th>2</th>\n",
       "      <td>176549</td>\n",
       "      <td>11310</td>\n",
       "      <td>1.277756</td>\n",
       "      <td>3</td>\n",
       "    </tr>\n",
       "    <tr>\n",
       "      <th>3</th>\n",
       "      <td>176549</td>\n",
       "      <td>4774</td>\n",
       "      <td>1.248165</td>\n",
       "      <td>4</td>\n",
       "    </tr>\n",
       "    <tr>\n",
       "      <th>4</th>\n",
       "      <td>176549</td>\n",
       "      <td>12869</td>\n",
       "      <td>1.233787</td>\n",
       "      <td>5</td>\n",
       "    </tr>\n",
       "  </tbody>\n",
       "</table>\n",
       "</div>"
      ],
      "text/plain": [
       "   user_id  item_id     score  rank\n",
       "0   176549    16361  1.562495     1\n",
       "1   176549     1819  1.446069     2\n",
       "2   176549    11310  1.277756     3\n",
       "3   176549     4774  1.248165     4\n",
       "4   176549    12869  1.233787     5"
      ]
     },
     "execution_count": 28,
     "metadata": {},
     "output_type": "execute_result"
    }
   ],
   "source": [
    "recs.head()"
   ]
  },
  {
   "cell_type": "code",
   "execution_count": 29,
   "id": "4e196763-16c1-4096-91bf-2f32e8acc94f",
   "metadata": {},
   "outputs": [
    {
     "name": "stdout",
     "output_type": "stream",
     "text": [
      "Precision: 0.01743650330706793 NDCG: 0.02084578306435786 MAP 0.033981696916868566\n"
     ]
    }
   ],
   "source": [
    "precision = Precision(k=10).calc(reco=recs, interactions=df_test)\n",
    "ndcg = NDCG(k=10).calc(reco=recs, interactions=df_test)\n",
    "map_ = MAP(k=10).calc(reco=recs, interactions=df_test)\n",
    "print('Precision:', precision, 'NDCG:', ndcg, 'MAP', map_)"
   ]
  },
  {
   "cell_type": "markdown",
   "id": "655a63f4-5d23-4272-826e-6c6651477d82",
   "metadata": {},
   "source": [
    "### Hybrid"
   ]
  },
  {
   "cell_type": "code",
   "execution_count": 30,
   "id": "1b0e702f-87f1-4b25-9bac-0c4c04701062",
   "metadata": {
    "tags": []
   },
   "outputs": [
    {
     "data": {
      "text/html": [
       "<div>\n",
       "<style scoped>\n",
       "    .dataframe tbody tr th:only-of-type {\n",
       "        vertical-align: middle;\n",
       "    }\n",
       "\n",
       "    .dataframe tbody tr th {\n",
       "        vertical-align: top;\n",
       "    }\n",
       "\n",
       "    .dataframe thead th {\n",
       "        text-align: right;\n",
       "    }\n",
       "</style>\n",
       "<table border=\"1\" class=\"dataframe\">\n",
       "  <thead>\n",
       "    <tr style=\"text-align: right;\">\n",
       "      <th></th>\n",
       "      <th>user_id</th>\n",
       "      <th>age</th>\n",
       "      <th>income</th>\n",
       "      <th>sex</th>\n",
       "      <th>kids_flg</th>\n",
       "    </tr>\n",
       "  </thead>\n",
       "  <tbody>\n",
       "    <tr>\n",
       "      <th>0</th>\n",
       "      <td>973171</td>\n",
       "      <td>age_25_34</td>\n",
       "      <td>income_60_90</td>\n",
       "      <td>М</td>\n",
       "      <td>1</td>\n",
       "    </tr>\n",
       "    <tr>\n",
       "      <th>1</th>\n",
       "      <td>962099</td>\n",
       "      <td>age_18_24</td>\n",
       "      <td>income_20_40</td>\n",
       "      <td>М</td>\n",
       "      <td>0</td>\n",
       "    </tr>\n",
       "    <tr>\n",
       "      <th>2</th>\n",
       "      <td>1047345</td>\n",
       "      <td>age_45_54</td>\n",
       "      <td>income_40_60</td>\n",
       "      <td>Ж</td>\n",
       "      <td>0</td>\n",
       "    </tr>\n",
       "    <tr>\n",
       "      <th>3</th>\n",
       "      <td>721985</td>\n",
       "      <td>age_45_54</td>\n",
       "      <td>income_20_40</td>\n",
       "      <td>Ж</td>\n",
       "      <td>0</td>\n",
       "    </tr>\n",
       "    <tr>\n",
       "      <th>4</th>\n",
       "      <td>704055</td>\n",
       "      <td>age_35_44</td>\n",
       "      <td>income_60_90</td>\n",
       "      <td>Ж</td>\n",
       "      <td>0</td>\n",
       "    </tr>\n",
       "  </tbody>\n",
       "</table>\n",
       "</div>"
      ],
      "text/plain": [
       "   user_id        age        income sex  kids_flg\n",
       "0   973171  age_25_34  income_60_90   М         1\n",
       "1   962099  age_18_24  income_20_40   М         0\n",
       "2  1047345  age_45_54  income_40_60   Ж         0\n",
       "3   721985  age_45_54  income_20_40   Ж         0\n",
       "4   704055  age_35_44  income_60_90   Ж         0"
      ]
     },
     "execution_count": 30,
     "metadata": {},
     "output_type": "execute_result"
    }
   ],
   "source": [
    "items_df = pd.read_csv('../data/archive/items.csv').drop(columns=['title_orig', 'studios'])\n",
    "users_df = pd.read_csv('../data/archive/users.csv')\n",
    "\n",
    "users_df.head()"
   ]
  },
  {
   "cell_type": "code",
   "execution_count": 31,
   "id": "46748f33-aa13-412a-921a-d687ff1b458f",
   "metadata": {},
   "outputs": [
    {
     "data": {
      "text/plain": [
       "user_id     840197\n",
       "age              6\n",
       "income           6\n",
       "sex              2\n",
       "kids_flg         2\n",
       "dtype: int64"
      ]
     },
     "execution_count": 31,
     "metadata": {},
     "output_type": "execute_result"
    }
   ],
   "source": [
    "users_df.nunique()"
   ]
  },
  {
   "cell_type": "code",
   "execution_count": 32,
   "id": "a3a245b8-e52d-482a-a879-8e2e6f89fc4c",
   "metadata": {},
   "outputs": [],
   "source": [
    "users_df = users_df[users_df['user_id'].isin(df_train['user_id'])]\n",
    "items_df = items_df[items_df['item_id'].isin(df_train['item_id'])]"
   ]
  },
  {
   "cell_type": "code",
   "execution_count": 33,
   "id": "6e68bbf7-5e8f-4b5e-a7df-9f06705dbdac",
   "metadata": {},
   "outputs": [
    {
     "data": {
      "text/html": [
       "<div>\n",
       "<style scoped>\n",
       "    .dataframe tbody tr th:only-of-type {\n",
       "        vertical-align: middle;\n",
       "    }\n",
       "\n",
       "    .dataframe tbody tr th {\n",
       "        vertical-align: top;\n",
       "    }\n",
       "\n",
       "    .dataframe thead th {\n",
       "        text-align: right;\n",
       "    }\n",
       "</style>\n",
       "<table border=\"1\" class=\"dataframe\">\n",
       "  <thead>\n",
       "    <tr style=\"text-align: right;\">\n",
       "      <th></th>\n",
       "      <th>id</th>\n",
       "      <th>value</th>\n",
       "      <th>feature</th>\n",
       "    </tr>\n",
       "  </thead>\n",
       "  <tbody>\n",
       "    <tr>\n",
       "      <th>0</th>\n",
       "      <td>973171</td>\n",
       "      <td>М</td>\n",
       "      <td>sex</td>\n",
       "    </tr>\n",
       "    <tr>\n",
       "      <th>1</th>\n",
       "      <td>962099</td>\n",
       "      <td>М</td>\n",
       "      <td>sex</td>\n",
       "    </tr>\n",
       "    <tr>\n",
       "      <th>3</th>\n",
       "      <td>721985</td>\n",
       "      <td>Ж</td>\n",
       "      <td>sex</td>\n",
       "    </tr>\n",
       "    <tr>\n",
       "      <th>4</th>\n",
       "      <td>704055</td>\n",
       "      <td>Ж</td>\n",
       "      <td>sex</td>\n",
       "    </tr>\n",
       "    <tr>\n",
       "      <th>5</th>\n",
       "      <td>1037719</td>\n",
       "      <td>М</td>\n",
       "      <td>sex</td>\n",
       "    </tr>\n",
       "  </tbody>\n",
       "</table>\n",
       "</div>"
      ],
      "text/plain": [
       "        id value feature\n",
       "0   973171     М     sex\n",
       "1   962099     М     sex\n",
       "3   721985     Ж     sex\n",
       "4   704055     Ж     sex\n",
       "5  1037719     М     sex"
      ]
     },
     "execution_count": 33,
     "metadata": {},
     "output_type": "execute_result"
    }
   ],
   "source": [
    "user_features_frames = []\n",
    "for feature in [\"sex\", \"income\", \"age\"]:\n",
    "    feature_frame = users_df.reindex(columns=[\"user_id\", feature])\n",
    "    feature_frame.columns = [\"id\", \"value\"]\n",
    "    feature_frame[\"feature\"] = feature\n",
    "    user_features_frames.append(feature_frame)\n",
    "user_features = pd.concat(user_features_frames)\n",
    "user_features.head()"
   ]
  },
  {
   "cell_type": "code",
   "execution_count": 34,
   "id": "9a5e814f-dffa-4764-bd07-23e434434c3d",
   "metadata": {},
   "outputs": [
    {
     "data": {
      "text/html": [
       "<div>\n",
       "<style scoped>\n",
       "    .dataframe tbody tr th:only-of-type {\n",
       "        vertical-align: middle;\n",
       "    }\n",
       "\n",
       "    .dataframe tbody tr th {\n",
       "        vertical-align: top;\n",
       "    }\n",
       "\n",
       "    .dataframe thead th {\n",
       "        text-align: right;\n",
       "    }\n",
       "</style>\n",
       "<table border=\"1\" class=\"dataframe\">\n",
       "  <thead>\n",
       "    <tr style=\"text-align: right;\">\n",
       "      <th></th>\n",
       "      <th>id</th>\n",
       "      <th>value</th>\n",
       "      <th>feature</th>\n",
       "    </tr>\n",
       "  </thead>\n",
       "  <tbody>\n",
       "    <tr>\n",
       "      <th>0</th>\n",
       "      <td>10711</td>\n",
       "      <td>драмы</td>\n",
       "      <td>genre</td>\n",
       "    </tr>\n",
       "    <tr>\n",
       "      <th>0</th>\n",
       "      <td>10711</td>\n",
       "      <td>зарубежные</td>\n",
       "      <td>genre</td>\n",
       "    </tr>\n",
       "    <tr>\n",
       "      <th>0</th>\n",
       "      <td>10711</td>\n",
       "      <td>детективы</td>\n",
       "      <td>genre</td>\n",
       "    </tr>\n",
       "    <tr>\n",
       "      <th>0</th>\n",
       "      <td>10711</td>\n",
       "      <td>мелодрамы</td>\n",
       "      <td>genre</td>\n",
       "    </tr>\n",
       "    <tr>\n",
       "      <th>1</th>\n",
       "      <td>2508</td>\n",
       "      <td>зарубежные</td>\n",
       "      <td>genre</td>\n",
       "    </tr>\n",
       "  </tbody>\n",
       "</table>\n",
       "</div>"
      ],
      "text/plain": [
       "      id        value feature\n",
       "0  10711        драмы   genre\n",
       "0  10711   зарубежные   genre\n",
       "0  10711    детективы   genre\n",
       "0  10711    мелодрамы   genre\n",
       "1   2508   зарубежные   genre"
      ]
     },
     "execution_count": 34,
     "metadata": {},
     "output_type": "execute_result"
    }
   ],
   "source": [
    "items_df[\"genre\"] = items_df[\"genres\"].str.split(\",\")\n",
    "genre_feature = items_df[[\"item_id\", \"genre\"]].explode(\"genre\")\n",
    "genre_feature.columns = [\"id\", \"value\"]\n",
    "genre_feature[\"feature\"] = \"genre\"\n",
    "genre_feature.head()"
   ]
  },
  {
   "cell_type": "code",
   "execution_count": 35,
   "id": "a2da046d-a94e-4864-bf0b-419377d3a0fe",
   "metadata": {},
   "outputs": [
    {
     "data": {
      "text/plain": [
       "95"
      ]
     },
     "execution_count": 35,
     "metadata": {},
     "output_type": "execute_result"
    }
   ],
   "source": [
    "items_df['release_year'].isna().sum()"
   ]
  },
  {
   "cell_type": "code",
   "execution_count": 36,
   "id": "f506a4f9-1b28-4127-abbe-343dea771d32",
   "metadata": {},
   "outputs": [
    {
     "name": "stdout",
     "output_type": "stream",
     "text": [
      "[1897. 1983. 2003. 2009. 2012. 2014. 2016. 2017. 2019. 2020.]\n"
     ]
    }
   ],
   "source": [
    "items_df = items_df.fillna({'release_year': 2010})\n",
    "_, bins = pd.qcut(items_df[\"release_year\"], 10, retbins=True)\n",
    "labels = bins[:-1]\n",
    "print(labels)\n",
    "\n",
    "year_feature = pd.DataFrame(\n",
    "    {\n",
    "        \"id\": items_df[\"item_id\"],\n",
    "        \"value\": pd.cut(items_df[\"release_year\"], bins=bins, labels=labels),\n",
    "        \"feature\": \"release_year\",\n",
    "    }\n",
    ")\n",
    "\n",
    "item_features = pd.concat((genre_feature, year_feature))"
   ]
  },
  {
   "cell_type": "code",
   "execution_count": 37,
   "id": "b9f262e2-0f7c-4e3f-8d99-60fbba3e2149",
   "metadata": {},
   "outputs": [],
   "source": [
    "dataset = Dataset.construct(\n",
    "    interactions_df=df_train,\n",
    "    user_features_df=user_features,\n",
    "    cat_user_features=[\"sex\", \"income\", \"age\"],\n",
    "    item_features_df=item_features,\n",
    "    cat_item_features=[\"release_year\", \"genre\"],  # If we didn't binarize year, we wouldn't set it here\n",
    ")"
   ]
  },
  {
   "cell_type": "code",
   "execution_count": null,
   "id": "df14068b-44ca-471a-a16d-0ee8327aaafd",
   "metadata": {},
   "outputs": [
    {
     "name": "stderr",
     "output_type": "stream",
     "text": [
      "/Users/juliakup/anaconda3/envs/rectools/lib/python3.8/site-packages/rectools/dataset/features.py:399: UserWarning: Converting sparse features to dense array may cause MemoryError\n",
      "  warnings.warn(\"Converting sparse features to dense array may cause MemoryError\")\n"
     ]
    }
   ],
   "source": [
    "from rectools.metrics import (\n",
    "    MAP,\n",
    "    MeanInvUserFreq,\n",
    "    calc_metrics,\n",
    ")\n",
    "\n",
    "metrics = {\"MAP\": MAP(10), \"Novelty\": MeanInvUserFreq(10)}\n",
    "\n",
    "for fit_features_together in (True, False):\n",
    "    model = ImplicitALSWrapperModel(\n",
    "        AlternatingLeastSquares(factors=32, random_state=42, num_threads=1),\n",
    "        fit_features_together=fit_features_together\n",
    "    )\n",
    "    model.fit(dataset)\n",
    "    recos = model.recommend(\n",
    "        users=df_train['user_id'].unique(),\n",
    "        dataset=dataset,\n",
    "        k=10,\n",
    "        filter_viewed=True,\n",
    "    )\n",
    "    metric_values = calc_metrics(metrics, recos, df_test, df_train)\n",
    "    print(f\"Fit features together: {fit_features_together}.  Metrics: {metric_values}\")"
   ]
  },
  {
   "cell_type": "code",
   "execution_count": null,
   "id": "b2095e4a-795b-41e8-986e-682294fd5298",
   "metadata": {},
   "outputs": [],
   "source": []
  }
 ],
 "metadata": {
  "kernelspec": {
   "display_name": "rectools",
   "language": "python",
   "name": "rectools"
  },
  "language_info": {
   "codemirror_mode": {
    "name": "ipython",
    "version": 3
   },
   "file_extension": ".py",
   "mimetype": "text/x-python",
   "name": "python",
   "nbconvert_exporter": "python",
   "pygments_lexer": "ipython3",
   "version": "3.8.16"
  }
 },
 "nbformat": 4,
 "nbformat_minor": 5
}
